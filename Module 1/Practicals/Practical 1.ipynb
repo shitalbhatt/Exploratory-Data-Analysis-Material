{
 "cells": [
  {
   "cell_type": "markdown",
   "id": "c3d09d99-6f14-4021-ac56-1055e9a8befb",
   "metadata": {},
   "source": [
    "# Introduction to tools and packages to implement EDA\r\n",
    "\r\n",
    "# Data Repositories\r\n",
    "\r\n",
    "# Reading and storing Data\r\n",
    "\r\n",
    "# Summary Statistics: Implement Measures of Central Tendency and Dispersion on data\r\n",
    "\r\n",
    "# Analyse the nature and shape of Data Distributions\r\n",
    "\r\n",
    "# Tools to summrize data\r\n",
    "rize data\r\n",
    "ups\r\n",
    "\r\n",
    "\r\n",
    "ups\r\n",
    "\r\n",
    "\r\n"
   ]
  },
  {
   "cell_type": "markdown",
   "id": "3a49231b-6662-47b5-b333-96ea2a446708",
   "metadata": {
    "collapsed": true,
    "jupyter": {
     "outputs_hidden": true
    }
   },
   "source": [
    "# Introduction to tools and packages to implement EDA#"
   ]
  },
  {
   "cell_type": "markdown",
   "id": "d2a4bdd0-c6a1-43c5-9fe9-1095fe4ff983",
   "metadata": {},
   "source": [
    "**Exploratory Data Analysis Tool\n",
    "Exploratory Data Analysis (EDA) leverages various tools to unravel the insights hidden within data. These tools are not just about processing data; they are enablers that transform raw numbers into insights. The power of EDA lies in its tools, and understanding them is key to any data analyst's success.**\n",
    "\n",
    "**Python Libraries:** Python, a leading language in data science, offers libraries like Pandas for data manipulation, NumPy for numerical computations, Matplotlib for plotting graphs, and Seaborn for advanced visualizations. These libraries work in tandem to provide a comprehensive EDA toolkit.\n",
    "\n",
    "**Jupyter Notebooks:** For interactive analysis, Jupyter Notebooks are invaluable. They allow data scientists to write and execute code, visualize results, and document their processes in a seamless, interactive environment.s\n",
    "Exploratory Data Analysis (EDA) leverages various tools to unravel the insights hidden within data. These tools are not just about processing data; they are enablers that transform raw numbers into insights. The power of EDA lies in its tools, and understanding them is key to any data analyst's success.\n",
    "\n",
    "**Python Libraries:** Python, a leading language in data science, offers libraries like Pandas for data manipulation, NumPy for numerical computations, Matplotlib for plotting graphs, and Seaborn for advanced visualizations. These libraries work in tandem to provide a comprehensive EDA toolkit.\n",
    "\n",
    "\n"
   ]
  },
  {
   "cell_type": "markdown",
   "id": "3cfe3c66-5a1d-4947-8fba-da27f6c84fab",
   "metadata": {},
   "source": [
    "# **Python libraries\n",
    "## General Packages**\n",
    "## DataPrep (pip library) - data preparation library with an EDA package. Paper about the package\n",
    "\n",
    "## Dora (pip library) - data cleaning, featuring engineering and simple modeling tools.\n",
    "\n",
    "## statsModels (pip library) - collection of statistical tools, including EDA.\n",
    "\n",
    "## TPOT (pip library) - autoML tool with feature engineering module.\n",
    "\n",
    "## HoloViews (pip library) - automated visualization based on short data annotations.\n",
    "\n",
    "## lens (pip library) - fast calculation of summary statistics and correlations. Presentation about the library.\n",
    "\n",
    "## pandas-profiling - popular library for quick data summaries and correlation analysis.\n",
    "\n",
    "## speedML (pip library) - large library for ML with module dedicated to fast EDA.\n",
    "\n",
    "## edaviz - Python library for fast data exploration that provides functions for dataset overviews, bivariate plots and finding good predictors. (Free version only works for small datasets).\n",
    "\n",
    "## AutoViz - Python library for automated visualization.\n",
    "\n",
    "## ExploriPy - Python library for various EDA tasks.\n",
    " \n",
    "## pandas-summary - simple extension to pandas.describe.\n",
    "\n",
    "## sweetviz - visualizations for automated EDA.\n",
    "\n",
    "Related packages\n",
    "## featuretools - library for automated feature engineering.\n",
    "\n",
    "## pyvtreat - Python version of the R's vtreat package.\n",
    "\n",
    "## autoimpute - easier handling of missing values.\n",
    "\n",
    "## Auto_TS - automated time series modeling."
   ]
  },
  {
   "cell_type": "raw",
   "id": "a675096a-8eea-484a-a38e-64e197904bf3",
   "metadata": {},
   "source": []
  },
  {
   "cell_type": "markdown",
   "id": "16bb8655-1ead-4e41-8903-efed5e46eb1d",
   "metadata": {},
   "source": [
    "# MODULES AND PACKAGES\n",
    "Module: file containing variables, functions, etc. that can be imported into a Python session with the import statement\n",
    "\n",
    "Package: directory of modules that perform similar tasks (e.g. data visualization, statistics, etc.)\n",
    "Thousands upon thousands of Python packages available - that do just about anything!"
   ]
  },
  {
   "cell_type": "markdown",
   "id": "b0af4e37-2292-4eb2-a4e8-fa182f140d98",
   "metadata": {},
   "source": [
    "# BUILT-IN PACKAGES\n",
    "Many packages are included in stdlib, the standard library that ships with Python\n",
    "Popular modules: re for regular expressions; os for operating system functions; random for random-number generation; and many more. Full list: https://docs.python.org/3/library/"
   ]
  },
  {
   "cell_type": "raw",
   "id": "17f4f0f7-f3fc-46d3-891b-94bf0fa1edb4",
   "metadata": {},
   "source": []
  },
  {
   "cell_type": "markdown",
   "id": "38884788-1bd5-4d04-9d7e-f4df7c1beb7a",
   "metadata": {},
   "source": [
    "# NUMPY\n",
    "Extension to Python; the core Python package for numerical computing\n",
    "Standard import: import numpy as np\n",
    "Data structure: the NumPy array. Sort of like a list - but with more methods, and can be multidimensional"
   ]
  },
  {
   "cell_type": "markdown",
   "id": "df670261-3977-4815-852d-e1346dda732b",
   "metadata": {},
   "source": [
    "# PANDAS\n",
    "Built on top of NumPy; adds support for table-like data structures in Python\n",
    "Standard import: import pandas as pd\n",
    "Sequences of data are stored as Series objects, which collectively form DataFrames"
   ]
  },
  {
   "cell_type": "raw",
   "id": "38167549-76aa-44cc-8727-e4897cbc5789",
   "metadata": {},
   "source": [
    "\n"
   ]
  },
  {
   "cell_type": "code",
   "execution_count": 1,
   "id": "a3821dec-9126-4982-9b5e-ceb4bde736c0",
   "metadata": {},
   "outputs": [
    {
     "name": "stdout",
     "output_type": "stream",
     "text": [
      "     name  degree  score\n",
      "0  aparna     MBA     90\n",
      "1  pankaj     BCA     40\n",
      "2  sudhir  M.Tech     80\n",
      "3   Geeku     MBA     98\n"
     ]
    }
   ],
   "source": [
    "# importing pandas as pd\n",
    "import pandas as pd\n",
    "\n",
    "# list of name, degree, score\n",
    "nme = [\"aparna\", \"pankaj\", \"sudhir\", \"Geeku\"]\n",
    "deg = [\"MBA\", \"BCA\", \"M.Tech\", \"MBA\"]\n",
    "scr = [90, 40, 80, 98]\n",
    "\n",
    "# dictionary of lists\n",
    "dict = {'name': nme, 'degree': deg, 'score': scr}\n",
    "\t\n",
    "df = pd.DataFrame(dict)\n",
    "\n",
    "print(df)\n"
   ]
  },
  {
   "cell_type": "markdown",
   "id": "4a606eab-4a86-4597-9031-9fd9fae7d067",
   "metadata": {},
   "source": [
    "Export CSV to a working directory\n",
    "Here, we simply export a Dataframe to a CSV file using df.to_csv()."
   ]
  },
  {
   "cell_type": "code",
   "execution_count": 2,
   "id": "a3f7f6e4-8102-43c9-af2a-612116d68ff2",
   "metadata": {},
   "outputs": [],
   "source": [
    "# saving the dataframe\n",
    "df.to_csv('file1.csv')\n"
   ]
  },
  {
   "cell_type": "markdown",
   "id": "89f74206-dbe1-4f14-80c8-7af199ec1f94",
   "metadata": {},
   "source": [
    "Saving CSV without headers and index. \n",
    "Here, we are saving the file with no header and no index number."
   ]
  },
  {
   "cell_type": "code",
   "execution_count": 3,
   "id": "ec58051d-f84f-4eaf-9eb2-a96607d8d205",
   "metadata": {},
   "outputs": [],
   "source": [
    "# saving the dataframe\n",
    "df.to_csv('file2.csv', header=False, index=False)\n"
   ]
  },
  {
   "cell_type": "raw",
   "id": "5537f94f-50ca-461f-b4a7-b57b71c36d55",
   "metadata": {},
   "source": []
  },
  {
   "cell_type": "code",
   "execution_count": 4,
   "id": "387ff0f0-54e4-445d-a13b-4ac4329ced87",
   "metadata": {},
   "outputs": [
    {
     "name": "stdout",
     "output_type": "stream",
     "text": [
      "Original DataFrame:\n",
      "   Name  Age\n",
      "0  Amit   20\n",
      "1  Cody   21\n",
      "2  Drew   25\n",
      "Data from Users.csv:\n",
      "  Name\\tAge\n",
      "0  Amit\\t20\n",
      "1  Cody\\t21\n",
      "2  Drew\\t25\n"
     ]
    }
   ],
   "source": [
    "import pandas as pd\n",
    "import numpy as np\n",
    "\n",
    "users = {'Name': ['Amit', 'Cody', 'Drew'],\n",
    "\t'Age': [20,21,25]}\n",
    "\n",
    "#create DataFrame\n",
    "df = pd.DataFrame(users, columns=['Name','Age'])\n",
    "\n",
    "print(\"Original DataFrame:\")\n",
    "print(df)\n",
    "print('Data from Users.csv:')\n",
    "\n",
    "df.to_csv('Users.csv', sep='\\t', index=False,header=True)\n",
    "new_df = pd.read_csv('Users.csv')\n",
    "\n",
    "print(new_df)\n"
   ]
  },
  {
   "cell_type": "code",
   "execution_count": 5,
   "id": "e075999b-3d18-4a3e-8561-d5b1a7a482af",
   "metadata": {},
   "outputs": [],
   "source": [
    "import numpy as np\n",
    "\n",
    "y = np.array([[2, 4, 6, 8, 10, 12], \n",
    "             [1, 3, 5, 7, 9, 11], \n",
    "             [10, 12, 14, 18, 22, 14], \n",
    "             [9, 3, 3, 3, 3, 1]])\n",
    "            "
   ]
  },
  {
   "cell_type": "raw",
   "id": "f38f5278-2a85-405e-b4a4-df4c48af0f7b",
   "metadata": {},
   "source": []
  },
  {
   "cell_type": "code",
   "execution_count": 6,
   "id": "9ce2dd3f-3b83-4cf4-b041-cd7988996160",
   "metadata": {},
   "outputs": [],
   "source": [
    "import pandas as pd\n",
    "\n",
    "df = pd.DataFrame(y, columns = ['x' + str(num) for num in range(1, 7)])"
   ]
  },
  {
   "cell_type": "raw",
   "id": "91f99119-277a-4e39-9276-ec1906cb9f4f",
   "metadata": {},
   "source": []
  },
  {
   "cell_type": "code",
   "execution_count": 16,
   "id": "19b6ed0c-e77e-472e-a752-30c056c18e95",
   "metadata": {
    "collapsed": true,
    "jupyter": {
     "outputs_hidden": true
    }
   },
   "outputs": [],
   "source": []
  },
  {
   "cell_type": "markdown",
   "id": "765319db-9cde-4113-8a73-411761506dcc",
   "metadata": {},
   "source": [
    "# Data Repositories on the web:\n",
    "Google Dataset Search — a search engine for researchers to locate online data.\n",
    "\n",
    "datasetlist — offers a list of the biggest machine learning datasets from across the web.\n",
    "UCI — one of the oldest repositories with data classified by types of problems, attributes type, data type, the field of study, etc.\n",
    "\n",
    "fastai-datasets — datasets for Image classification, NLP and Image localization\n",
    "\n",
    "NLP-datasets — Alphabetical list of free/public domain datasets with text data for use in Natural Language Processing\n",
    "\n",
    "Bifrost — for visual datasets classified by task, application, class, label, and format.\n",
    "\n",
    "ImageNet — ImageNet is an image database organized according to the WordNet hierarchy (currently only the nouns), in which each node of the hierarchy is depicted by hundreds and thousands of images.\n",
    "\n",
    "CT Medical Images — designed to allow for different methods to be tested for examining the trends in CT image data associated with using contrast and patient age. The data consists of a tiny subset of images from the cancer imaging archive.\n",
    "\n",
    "Flickr-faces — Flickr-Faces-HQ (FFHQ) is a high-quality image dataset of human faces, originally created as a benchmark for generative…"
   ]
  },
  {
   "cell_type": "markdown",
   "id": "d78282d8-500c-4ed4-a039-a5474aff6dcd",
   "metadata": {},
   "source": [
    "#  Reading and storing Data\n",
    "Import all of the libraries needed for our investigation, including those for data loading, statistical analysis, visualizations, univariate and bivariate analysis, etc.\n",
    "\n"
   ]
  },
  {
   "cell_type": "code",
   "execution_count": 7,
   "id": "5c0f34ee-ca33-4369-81a4-2b1498b5e276",
   "metadata": {},
   "outputs": [],
   "source": [
    "\n",
    "\n",
    "# importting Libraries\n",
    "import pandas as pd\n",
    "import numpy as np\n",
    "import matplotlib.pyplot as plt\n",
    "import seaborn as sns\n",
    "import warnings as wr\n",
    "wr.filterwarnings('ignore')"
   ]
  },
  {
   "cell_type": "code",
   "execution_count": 8,
   "id": "94c02d34-072d-4603-bd5a-a90f85a04a8d",
   "metadata": {},
   "outputs": [
    {
     "name": "stdout",
     "output_type": "stream",
     "text": [
      "   fixed acidity  volatile acidity  citric acid  residual sugar  chlorides  \\\n",
      "0            7.4              0.70         0.00             1.9      0.076   \n",
      "1            7.8              0.88         0.00             2.6      0.098   \n",
      "2            7.8              0.76         0.04             2.3      0.092   \n",
      "3           11.2              0.28         0.56             1.9      0.075   \n",
      "4            7.4              0.70         0.00             1.9      0.076   \n",
      "\n",
      "   free sulfur dioxide  total sulfur dioxide  density    pH  sulphates  \\\n",
      "0                 11.0                  34.0   0.9978  3.51       0.56   \n",
      "1                 25.0                  67.0   0.9968  3.20       0.68   \n",
      "2                 15.0                  54.0   0.9970  3.26       0.65   \n",
      "3                 17.0                  60.0   0.9980  3.16       0.58   \n",
      "4                 11.0                  34.0   0.9978  3.51       0.56   \n",
      "\n",
      "   alcohol  quality  \n",
      "0      9.4        5  \n",
      "1      9.8        5  \n",
      "2      9.8        5  \n",
      "3      9.8        6  \n",
      "4      9.4        5  \n"
     ]
    }
   ],
   "source": [
    "\n",
    "\n",
    "# loading and reading dataset\n",
    "df = pd.read_csv(\"winequality-red.csv\")\n",
    "print(df.head())"
   ]
  },
  {
   "cell_type": "markdown",
   "id": "542c47e9-1283-45e6-ba64-ea442c000da0",
   "metadata": {},
   "source": [
    " # Measuring Central Tendency\n"
   ]
  },
  {
   "cell_type": "raw",
   "id": "43144432-8065-4973-bed0-c8c53df7f64e",
   "metadata": {},
   "source": [
    "Mathematically central tendency means measuring the center or distribution of location of values of a data set. It gives an idea of the average value of the data in the data set and also an indication of how widely the values are spread in the data set. That in turn helps in evaluating the chances of a new input fitting into the existing data set and hence probability of success.\n",
    "\n",
    "There are three main measures of central tendency which can be calculated using the methods in pandas python library.\n",
    "\n",
    "Mean - It is the Average value of the data which is a division of sum of the values with the number of values.\n",
    "\n",
    "Median - It is the middle value in distribution when the values are arranged in ascending or descending order.\n",
    "\n",
    "Mode - It is the most commonly occurring value in a distribution."
   ]
  },
  {
   "cell_type": "raw",
   "id": "f3015c53-cc59-4662-b532-a67db2a71efb",
   "metadata": {},
   "source": [
    "Calculating Mean and Median\n",
    "The pandas functions can be directly used to calculate these values."
   ]
  },
  {
   "cell_type": "raw",
   "id": "b1dd597c-eb7b-42ad-aa08-fbbe759562f4",
   "metadata": {},
   "source": [
    "Data Science enables practitioners to do various mathematical operations on data, to get the best insight of the data and with desired output objective. Not just to mention but with python, it becomes more exciting to do operations on data.\n",
    "\n",
    "Generally, in Mathematical terms central tendency means the center of the distribution, it enables to get the idea of the average value with the indication of how widely the values are spread. There are three main measures of central tendency, which can be calculated using Pandas in the Python library, namely,\n",
    "\n",
    "Mean\n",
    "Median\n",
    "Mode\n",
    "Mean can be defined as the average of the data observation, calculated by adding up all the number in the data and dividing it by the total number of data terms. Mean is preferred when the data is normally distributed.\n",
    "\n",
    "Mean= x̄ = ∑x/ N\n",
    "\n",
    "Median can be defined as middle number data in a given set of observations, calculated by arranging the data in the required order and the middle data is taken out. Median is best used when data is skewed.\n",
    "\n",
    "Median = (n + 1/2)th observation  if the total observation is odd. \n",
    "\n",
    "Mode can be defined as the highest frequency occurring number in a given set of datasets, if there is a unique dataset then there is no mode at all.\n",
    "\n",
    "MEAN\n",
    "Creating the dataset"
   ]
  },
  {
   "cell_type": "code",
   "execution_count": 27,
   "id": "4f6797e4-534e-4190-94c5-c84bf1e09590",
   "metadata": {
    "collapsed": true,
    "jupyter": {
     "outputs_hidden": true
    }
   },
   "outputs": [
    {
     "data": {
      "text/html": [
       "<div>\n",
       "<style scoped>\n",
       "    .dataframe tbody tr th:only-of-type {\n",
       "        vertical-align: middle;\n",
       "    }\n",
       "\n",
       "    .dataframe tbody tr th {\n",
       "        vertical-align: top;\n",
       "    }\n",
       "\n",
       "    .dataframe thead th {\n",
       "        text-align: right;\n",
       "    }\n",
       "</style>\n",
       "<table border=\"1\" class=\"dataframe\">\n",
       "  <thead>\n",
       "    <tr style=\"text-align: right;\">\n",
       "      <th></th>\n",
       "      <th>John - Marks</th>\n",
       "      <th>Adam - Marks</th>\n",
       "      <th>David - Marks</th>\n",
       "      <th>Rahul - Marks</th>\n",
       "    </tr>\n",
       "  </thead>\n",
       "  <tbody>\n",
       "    <tr>\n",
       "      <th>0</th>\n",
       "      <td>98</td>\n",
       "      <td>88</td>\n",
       "      <td>90</td>\n",
       "      <td>88</td>\n",
       "    </tr>\n",
       "    <tr>\n",
       "      <th>1</th>\n",
       "      <td>87</td>\n",
       "      <td>52</td>\n",
       "      <td>92</td>\n",
       "      <td>85</td>\n",
       "    </tr>\n",
       "    <tr>\n",
       "      <th>2</th>\n",
       "      <td>76</td>\n",
       "      <td>69</td>\n",
       "      <td>71</td>\n",
       "      <td>79</td>\n",
       "    </tr>\n",
       "    <tr>\n",
       "      <th>3</th>\n",
       "      <td>88</td>\n",
       "      <td>79</td>\n",
       "      <td>60</td>\n",
       "      <td>81</td>\n",
       "    </tr>\n",
       "    <tr>\n",
       "      <th>4</th>\n",
       "      <td>96</td>\n",
       "      <td>80</td>\n",
       "      <td>64</td>\n",
       "      <td>91</td>\n",
       "    </tr>\n",
       "  </tbody>\n",
       "</table>\n",
       "</div>"
      ],
      "text/plain": [
       "   John - Marks   Adam - Marks  David - Marks  Rahul - Marks\n",
       "0             98            88             90             88\n",
       "1             87            52             92             85\n",
       "2             76            69             71             79\n",
       "3             88            79             60             81\n",
       "4             96            80             64             91"
      ]
     },
     "execution_count": 27,
     "metadata": {},
     "output_type": "execute_result"
    }
   ],
   "source": [
    "import pandas as pd\n",
    "\n",
    "# Creating the dataframe of student's marks\n",
    "df = pd.DataFrame({\"John - Marks \":[98,87,76,88,96],\n",
    "\t\t\t\t\"Adam - Marks\":[88,52,69,79,80],\n",
    "\t\t\t\t\"David - Marks\":[90,92,71,60,64],\n",
    "\t\t\t\t\"Rahul - Marks\":[88,85,79,81,91]})\n",
    "\n",
    "# Printing the dataframe\n",
    "df"
   ]
  },
  {
   "cell_type": "raw",
   "id": "3f85fe87-e211-4de0-870b-8a8c437b8f65",
   "metadata": {},
   "source": [
    "Calculating the Mean using the above dataset,"
   ]
  },
  {
   "cell_type": "code",
   "execution_count": null,
   "id": "94b109d0-2fb4-43bd-9fd7-4e4e15cabc39",
   "metadata": {
    "collapsed": true,
    "jupyter": {
     "outputs_hidden": true
    }
   },
   "outputs": [],
   "source": []
  },
  {
   "cell_type": "code",
   "execution_count": null,
   "id": "15f31cf3-47fd-4232-9fdc-ff121abd7a55",
   "metadata": {
    "collapsed": true,
    "jupyter": {
     "outputs_hidden": true
    }
   },
   "outputs": [],
   "source": []
  },
  {
   "cell_type": "code",
   "execution_count": 28,
   "id": "bb7497a9-b802-4b14-8b4d-ad2a6fca927d",
   "metadata": {
    "collapsed": true,
    "jupyter": {
     "outputs_hidden": true
    }
   },
   "outputs": [
    {
     "data": {
      "text/plain": [
       "John - Marks     89.0\n",
       "Adam - Marks     73.6\n",
       "David - Marks    75.4\n",
       "Rahul - Marks    84.8\n",
       "dtype: float64"
      ]
     },
     "execution_count": 28,
     "metadata": {},
     "output_type": "execute_result"
    }
   ],
   "source": [
    "df.mean(axis = 0)"
   ]
  },
  {
   "cell_type": "raw",
   "id": "b0ddd044-3942-4fbb-85f6-3b9d697af27c",
   "metadata": {},
   "source": [
    "MEDIAN\n",
    "Creating the dataset"
   ]
  },
  {
   "cell_type": "code",
   "execution_count": 29,
   "id": "19066308-dee6-4cf4-94ba-df9d4d97c13b",
   "metadata": {
    "collapsed": true,
    "jupyter": {
     "outputs_hidden": true
    }
   },
   "outputs": [
    {
     "data": {
      "text/html": [
       "<div>\n",
       "<style scoped>\n",
       "    .dataframe tbody tr th:only-of-type {\n",
       "        vertical-align: middle;\n",
       "    }\n",
       "\n",
       "    .dataframe tbody tr th {\n",
       "        vertical-align: top;\n",
       "    }\n",
       "\n",
       "    .dataframe thead th {\n",
       "        text-align: right;\n",
       "    }\n",
       "</style>\n",
       "<table border=\"1\" class=\"dataframe\">\n",
       "  <thead>\n",
       "    <tr style=\"text-align: right;\">\n",
       "      <th></th>\n",
       "      <th>John - Marks</th>\n",
       "      <th>Adam - Marks</th>\n",
       "      <th>David - Marks</th>\n",
       "      <th>Rahul - Marks</th>\n",
       "    </tr>\n",
       "  </thead>\n",
       "  <tbody>\n",
       "    <tr>\n",
       "      <th>0</th>\n",
       "      <td>98</td>\n",
       "      <td>88</td>\n",
       "      <td>90</td>\n",
       "      <td>88</td>\n",
       "    </tr>\n",
       "    <tr>\n",
       "      <th>1</th>\n",
       "      <td>87</td>\n",
       "      <td>52</td>\n",
       "      <td>92</td>\n",
       "      <td>85</td>\n",
       "    </tr>\n",
       "    <tr>\n",
       "      <th>2</th>\n",
       "      <td>76</td>\n",
       "      <td>69</td>\n",
       "      <td>71</td>\n",
       "      <td>79</td>\n",
       "    </tr>\n",
       "    <tr>\n",
       "      <th>3</th>\n",
       "      <td>88</td>\n",
       "      <td>79</td>\n",
       "      <td>60</td>\n",
       "      <td>81</td>\n",
       "    </tr>\n",
       "    <tr>\n",
       "      <th>4</th>\n",
       "      <td>96</td>\n",
       "      <td>80</td>\n",
       "      <td>64</td>\n",
       "      <td>91</td>\n",
       "    </tr>\n",
       "  </tbody>\n",
       "</table>\n",
       "</div>"
      ],
      "text/plain": [
       "   John - Marks   Adam - Marks  David - Marks  Rahul - Marks\n",
       "0             98            88             90             88\n",
       "1             87            52             92             85\n",
       "2             76            69             71             79\n",
       "3             88            79             60             81\n",
       "4             96            80             64             91"
      ]
     },
     "execution_count": 29,
     "metadata": {},
     "output_type": "execute_result"
    }
   ],
   "source": [
    "import pandas as pd\n",
    "\n",
    "# Creating the dataframe of student's marks\n",
    "df = pd.DataFrame({\"John - Marks \":[98,87,76,88,96],\n",
    "\t\t\t\t\"Adam - Marks\":[88,52,69,79,80],\n",
    "\t\t\t\t\"David - Marks\":[90,92,71,60,64],\n",
    "\t\t\t\t\"Rahul - Marks\":[88,85,79,81,91]})\n",
    "\n",
    "# Printing the dataframe\n",
    "df"
   ]
  },
  {
   "cell_type": "code",
   "execution_count": 30,
   "id": "0984bb72-f938-4184-99f1-0d1bcb13a640",
   "metadata": {
    "collapsed": true,
    "jupyter": {
     "outputs_hidden": true
    }
   },
   "outputs": [
    {
     "data": {
      "text/plain": [
       "John - Marks     88.0\n",
       "Adam - Marks     79.0\n",
       "David - Marks    71.0\n",
       "Rahul - Marks    85.0\n",
       "dtype: float64"
      ]
     },
     "execution_count": 30,
     "metadata": {},
     "output_type": "execute_result"
    }
   ],
   "source": [
    "df.median(axis = 0)"
   ]
  },
  {
   "cell_type": "code",
   "execution_count": 31,
   "id": "37e63658-9f7e-4ec7-8723-f53b4edabca3",
   "metadata": {
    "collapsed": true,
    "jupyter": {
     "outputs_hidden": true
    }
   },
   "outputs": [
    {
     "data": {
      "text/html": [
       "<div>\n",
       "<style scoped>\n",
       "    .dataframe tbody tr th:only-of-type {\n",
       "        vertical-align: middle;\n",
       "    }\n",
       "\n",
       "    .dataframe tbody tr th {\n",
       "        vertical-align: top;\n",
       "    }\n",
       "\n",
       "    .dataframe thead th {\n",
       "        text-align: right;\n",
       "    }\n",
       "</style>\n",
       "<table border=\"1\" class=\"dataframe\">\n",
       "  <thead>\n",
       "    <tr style=\"text-align: right;\">\n",
       "      <th></th>\n",
       "      <th>John - Marks</th>\n",
       "      <th>Adam - Marks</th>\n",
       "      <th>David - Marks</th>\n",
       "      <th>Rahul - Marks</th>\n",
       "    </tr>\n",
       "  </thead>\n",
       "  <tbody>\n",
       "    <tr>\n",
       "      <th>0</th>\n",
       "      <td>98</td>\n",
       "      <td>88</td>\n",
       "      <td>90</td>\n",
       "      <td>88</td>\n",
       "    </tr>\n",
       "    <tr>\n",
       "      <th>1</th>\n",
       "      <td>87</td>\n",
       "      <td>52</td>\n",
       "      <td>92</td>\n",
       "      <td>85</td>\n",
       "    </tr>\n",
       "    <tr>\n",
       "      <th>2</th>\n",
       "      <td>87</td>\n",
       "      <td>69</td>\n",
       "      <td>71</td>\n",
       "      <td>85</td>\n",
       "    </tr>\n",
       "    <tr>\n",
       "      <th>3</th>\n",
       "      <td>76</td>\n",
       "      <td>79</td>\n",
       "      <td>71</td>\n",
       "      <td>81</td>\n",
       "    </tr>\n",
       "    <tr>\n",
       "      <th>4</th>\n",
       "      <td>88</td>\n",
       "      <td>79</td>\n",
       "      <td>64</td>\n",
       "      <td>91</td>\n",
       "    </tr>\n",
       "  </tbody>\n",
       "</table>\n",
       "</div>"
      ],
      "text/plain": [
       "   John - Marks   Adam - Marks  David - Marks  Rahul - Marks\n",
       "0             98            88             90             88\n",
       "1             87            52             92             85\n",
       "2             87            69             71             85\n",
       "3             76            79             71             81\n",
       "4             88            79             64             91"
      ]
     },
     "execution_count": 31,
     "metadata": {},
     "output_type": "execute_result"
    }
   ],
   "source": [
    "import pandas as pd\n",
    "\n",
    "# Creating the dataframe of student's marks\n",
    "df1 = pd.DataFrame({\"John - Marks \":[98,87,87,76,88],\n",
    "\t\t\t\t\"Adam - Marks\":[88,52,69,79,79],\n",
    "\t\t\t\t\"David - Marks\":[90,92,71,71,64],\n",
    "\t\t\t\t\"Rahul - Marks\":[88,85,85,81,91]})\n",
    "\n",
    "# Printing the dataframe\n",
    "df1"
   ]
  },
  {
   "cell_type": "code",
   "execution_count": 32,
   "id": "18c078c5-5249-4a1a-ae33-014115e43a1c",
   "metadata": {
    "collapsed": true,
    "jupyter": {
     "outputs_hidden": true
    }
   },
   "outputs": [
    {
     "data": {
      "text/html": [
       "<div>\n",
       "<style scoped>\n",
       "    .dataframe tbody tr th:only-of-type {\n",
       "        vertical-align: middle;\n",
       "    }\n",
       "\n",
       "    .dataframe tbody tr th {\n",
       "        vertical-align: top;\n",
       "    }\n",
       "\n",
       "    .dataframe thead th {\n",
       "        text-align: right;\n",
       "    }\n",
       "</style>\n",
       "<table border=\"1\" class=\"dataframe\">\n",
       "  <thead>\n",
       "    <tr style=\"text-align: right;\">\n",
       "      <th></th>\n",
       "      <th>John - Marks</th>\n",
       "      <th>Adam - Marks</th>\n",
       "      <th>David - Marks</th>\n",
       "      <th>Rahul - Marks</th>\n",
       "    </tr>\n",
       "  </thead>\n",
       "  <tbody>\n",
       "    <tr>\n",
       "      <th>0</th>\n",
       "      <td>87</td>\n",
       "      <td>79</td>\n",
       "      <td>71</td>\n",
       "      <td>85</td>\n",
       "    </tr>\n",
       "  </tbody>\n",
       "</table>\n",
       "</div>"
      ],
      "text/plain": [
       "   John - Marks   Adam - Marks  David - Marks  Rahul - Marks\n",
       "0             87            79             71             85"
      ]
     },
     "execution_count": 32,
     "metadata": {},
     "output_type": "execute_result"
    }
   ],
   "source": [
    "df1.mode()"
   ]
  },
  {
   "cell_type": "raw",
   "id": "d6822516-87d1-4b5c-9cd8-cde5a8bf10ed",
   "metadata": {},
   "source": [
    "\n",
    "\n",
    "FAQs on Measures of Central Tendency\n",
    "1. What is a Measure of Central Tendency in Statistics?\n",
    "Measure of Central Tendency of a dataset represent a central value or a typical value for a dataset which can be used to do further analysis on the data.\n",
    "\n",
    "2. What is the Mean?\n",
    "Mean is the Average value of the dataset and can be calculated Arithmetically, Geometrically, and Harmonically as well. Generally by term “mean” means the arithmetic mean of the data.\n",
    "\n",
    "3. When is the Mean a good measure of Central Tendency?\n",
    "Mean is a good measure of central tendency when data is normally distributed and there is no extreme values or outliers in the dataset.\n",
    "\n",
    "4. What is the Median?\n",
    "Median is the middle value of the data set when arranged in increasing or decreasing order i.e., in either ascending or desending order there are equal number of observations on both sides of median.\n",
    "\n",
    "5. When is the Median a good measure of Central Tendency?\n",
    "The median is a good measure of central tendency when dataset is skewed or there are extreme values or outliers in the dataset.\n",
    "\n",
    "6. What is the Mode?\n",
    "Mode is highest frequency observation of the given dataset.\n",
    "\n",
    "7. When is the Mode a good measure of Central Tendency?\n",
    "The mode is a good measure of central tendency when there are clear peaks in the dataset of frequencies of observations.\n",
    "\n",
    "8. Can a dataset have more than one mode?\n",
    "Yes, a dataset can have more than one mode as there can be two observations with same number of highest frequencies.\n",
    "\n",
    "9. What is the purpose of central tendency?\n",
    "The primary goal of central tendency is to offer a single value that effectively represents a set of collected data. This value aims to capture the core or typical aspect of the data, providing a concise summary of the overall information."
   ]
  }
 ],
 "metadata": {
  "kernelspec": {
   "display_name": "Python 3 (ipykernel)",
   "language": "python",
   "name": "python3"
  },
  "language_info": {
   "codemirror_mode": {
    "name": "ipython",
    "version": 3
   },
   "file_extension": ".py",
   "mimetype": "text/x-python",
   "name": "python",
   "nbconvert_exporter": "python",
   "pygments_lexer": "ipython3",
   "version": "3.11.7"
  }
 },
 "nbformat": 4,
 "nbformat_minor": 5
}
