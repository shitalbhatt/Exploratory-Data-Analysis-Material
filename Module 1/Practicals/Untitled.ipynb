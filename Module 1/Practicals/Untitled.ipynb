{
 "cells": [
  {
   "cell_type": "code",
   "execution_count": 13,
   "id": "3cb9117e-cd06-41c3-9c9a-92c8ed7a3cbc",
   "metadata": {},
   "outputs": [
    {
     "name": "stdout",
     "output_type": "stream",
     "text": [
      "Requirement already satisfied: wordcloud in c:\\users\\admin\\anaconda3\\lib\\site-packages (1.9.3)\n",
      "Requirement already satisfied: numpy>=1.6.1 in c:\\users\\admin\\anaconda3\\lib\\site-packages (from wordcloud) (1.26.4)\n",
      "Requirement already satisfied: pillow in c:\\users\\admin\\anaconda3\\lib\\site-packages (from wordcloud) (10.2.0)\n",
      "Requirement already satisfied: matplotlib in c:\\users\\admin\\anaconda3\\lib\\site-packages (from wordcloud) (3.8.0)\n",
      "Requirement already satisfied: contourpy>=1.0.1 in c:\\users\\admin\\anaconda3\\lib\\site-packages (from matplotlib->wordcloud) (1.2.0)\n",
      "Requirement already satisfied: cycler>=0.10 in c:\\users\\admin\\anaconda3\\lib\\site-packages (from matplotlib->wordcloud) (0.11.0)\n",
      "Requirement already satisfied: fonttools>=4.22.0 in c:\\users\\admin\\anaconda3\\lib\\site-packages (from matplotlib->wordcloud) (4.25.0)\n",
      "Requirement already satisfied: kiwisolver>=1.0.1 in c:\\users\\admin\\anaconda3\\lib\\site-packages (from matplotlib->wordcloud) (1.4.4)\n",
      "Requirement already satisfied: packaging>=20.0 in c:\\users\\admin\\anaconda3\\lib\\site-packages (from matplotlib->wordcloud) (23.1)\n",
      "Requirement already satisfied: pyparsing>=2.3.1 in c:\\users\\admin\\anaconda3\\lib\\site-packages (from matplotlib->wordcloud) (3.0.9)\n",
      "Requirement already satisfied: python-dateutil>=2.7 in c:\\users\\admin\\anaconda3\\lib\\site-packages (from matplotlib->wordcloud) (2.8.2)\n",
      "Requirement already satisfied: six>=1.5 in c:\\users\\admin\\anaconda3\\lib\\site-packages (from python-dateutil>=2.7->matplotlib->wordcloud) (1.16.0)\n",
      "Note: you may need to restart the kernel to use updated packages.\n"
     ]
    }
   ],
   "source": [
    "pip install wordcloud"
   ]
  },
  {
   "cell_type": "code",
   "execution_count": 20,
   "id": "bf06b637-3835-4888-845d-286583920894",
   "metadata": {},
   "outputs": [
    {
     "name": "stdout",
     "output_type": "stream",
     "text": [
      "Collecting advertools\n",
      "  Downloading advertools-0.14.2-py2.py3-none-any.whl.metadata (32 kB)\n",
      "Requirement already satisfied: pandas>=1.1.0 in c:\\users\\admin\\anaconda3\\lib\\site-packages (from advertools) (2.1.4)\n",
      "Requirement already satisfied: pyasn1>=0.4 in c:\\users\\admin\\anaconda3\\lib\\site-packages (from advertools) (0.4.8)\n",
      "Requirement already satisfied: scrapy>=2.5.0 in c:\\users\\admin\\anaconda3\\lib\\site-packages (from advertools) (2.8.0)\n",
      "Collecting twython>=3.8.0 (from advertools)\n",
      "  Downloading twython-3.9.1-py3-none-any.whl.metadata (20 kB)\n",
      "Requirement already satisfied: pyarrow>=5.0.0 in c:\\users\\admin\\anaconda3\\lib\\site-packages (from advertools) (14.0.2)\n",
      "Requirement already satisfied: numpy<2,>=1.23.2 in c:\\users\\admin\\anaconda3\\lib\\site-packages (from pandas>=1.1.0->advertools) (1.26.4)\n",
      "Requirement already satisfied: python-dateutil>=2.8.2 in c:\\users\\admin\\anaconda3\\lib\\site-packages (from pandas>=1.1.0->advertools) (2.8.2)\n",
      "Requirement already satisfied: pytz>=2020.1 in c:\\users\\admin\\anaconda3\\lib\\site-packages (from pandas>=1.1.0->advertools) (2023.3.post1)\n",
      "Requirement already satisfied: tzdata>=2022.1 in c:\\users\\admin\\anaconda3\\lib\\site-packages (from pandas>=1.1.0->advertools) (2023.3)\n",
      "Requirement already satisfied: Twisted>=18.9.0 in c:\\users\\admin\\anaconda3\\lib\\site-packages (from scrapy>=2.5.0->advertools) (23.10.0)\n",
      "Requirement already satisfied: cryptography>=3.4.6 in c:\\users\\admin\\anaconda3\\lib\\site-packages (from scrapy>=2.5.0->advertools) (42.0.2)\n",
      "Requirement already satisfied: cssselect>=0.9.1 in c:\\users\\admin\\anaconda3\\lib\\site-packages (from scrapy>=2.5.0->advertools) (1.2.0)\n",
      "Requirement already satisfied: itemloaders>=1.0.1 in c:\\users\\admin\\anaconda3\\lib\\site-packages (from scrapy>=2.5.0->advertools) (1.1.0)\n",
      "Requirement already satisfied: parsel>=1.5.0 in c:\\users\\admin\\anaconda3\\lib\\site-packages (from scrapy>=2.5.0->advertools) (1.8.1)\n",
      "Requirement already satisfied: pyOpenSSL>=21.0.0 in c:\\users\\admin\\anaconda3\\lib\\site-packages (from scrapy>=2.5.0->advertools) (24.0.0)\n",
      "Requirement already satisfied: queuelib>=1.4.2 in c:\\users\\admin\\anaconda3\\lib\\site-packages (from scrapy>=2.5.0->advertools) (1.6.2)\n",
      "Requirement already satisfied: service-identity>=18.1.0 in c:\\users\\admin\\anaconda3\\lib\\site-packages (from scrapy>=2.5.0->advertools) (18.1.0)\n",
      "Requirement already satisfied: w3lib>=1.17.0 in c:\\users\\admin\\anaconda3\\lib\\site-packages (from scrapy>=2.5.0->advertools) (2.1.2)\n",
      "Requirement already satisfied: zope.interface>=5.1.0 in c:\\users\\admin\\anaconda3\\lib\\site-packages (from scrapy>=2.5.0->advertools) (5.4.0)\n",
      "Requirement already satisfied: protego>=0.1.15 in c:\\users\\admin\\anaconda3\\lib\\site-packages (from scrapy>=2.5.0->advertools) (0.1.16)\n",
      "Requirement already satisfied: itemadapter>=0.1.0 in c:\\users\\admin\\anaconda3\\lib\\site-packages (from scrapy>=2.5.0->advertools) (0.3.0)\n",
      "Requirement already satisfied: setuptools in c:\\users\\admin\\anaconda3\\lib\\site-packages (from scrapy>=2.5.0->advertools) (68.2.2)\n",
      "Requirement already satisfied: packaging in c:\\users\\admin\\anaconda3\\lib\\site-packages (from scrapy>=2.5.0->advertools) (23.1)\n",
      "Requirement already satisfied: tldextract in c:\\users\\admin\\anaconda3\\lib\\site-packages (from scrapy>=2.5.0->advertools) (3.2.0)\n",
      "Requirement already satisfied: lxml>=4.3.0 in c:\\users\\admin\\anaconda3\\lib\\site-packages (from scrapy>=2.5.0->advertools) (4.9.3)\n",
      "Requirement already satisfied: PyDispatcher>=2.0.5 in c:\\users\\admin\\anaconda3\\lib\\site-packages (from scrapy>=2.5.0->advertools) (2.0.5)\n",
      "Requirement already satisfied: requests>=2.1.0 in c:\\users\\admin\\anaconda3\\lib\\site-packages (from twython>=3.8.0->advertools) (2.31.0)\n",
      "Collecting requests-oauthlib>=0.4.0 (from twython>=3.8.0->advertools)\n",
      "  Downloading requests_oauthlib-2.0.0-py2.py3-none-any.whl.metadata (11 kB)\n",
      "Requirement already satisfied: cffi>=1.12 in c:\\users\\admin\\anaconda3\\lib\\site-packages (from cryptography>=3.4.6->scrapy>=2.5.0->advertools) (1.16.0)\n",
      "Requirement already satisfied: jmespath>=0.9.5 in c:\\users\\admin\\anaconda3\\lib\\site-packages (from itemloaders>=1.0.1->scrapy>=2.5.0->advertools) (1.0.1)\n",
      "Requirement already satisfied: six in c:\\users\\admin\\anaconda3\\lib\\site-packages (from protego>=0.1.15->scrapy>=2.5.0->advertools) (1.16.0)\n",
      "Requirement already satisfied: charset-normalizer<4,>=2 in c:\\users\\admin\\anaconda3\\lib\\site-packages (from requests>=2.1.0->twython>=3.8.0->advertools) (2.0.4)\n",
      "Requirement already satisfied: idna<4,>=2.5 in c:\\users\\admin\\anaconda3\\lib\\site-packages (from requests>=2.1.0->twython>=3.8.0->advertools) (3.4)\n",
      "Requirement already satisfied: urllib3<3,>=1.21.1 in c:\\users\\admin\\anaconda3\\lib\\site-packages (from requests>=2.1.0->twython>=3.8.0->advertools) (2.0.7)\n",
      "Requirement already satisfied: certifi>=2017.4.17 in c:\\users\\admin\\anaconda3\\lib\\site-packages (from requests>=2.1.0->twython>=3.8.0->advertools) (2024.2.2)\n",
      "Collecting oauthlib>=3.0.0 (from requests-oauthlib>=0.4.0->twython>=3.8.0->advertools)\n",
      "  Downloading oauthlib-3.2.2-py3-none-any.whl.metadata (7.5 kB)\n",
      "Requirement already satisfied: attrs>=16.0.0 in c:\\users\\admin\\anaconda3\\lib\\site-packages (from service-identity>=18.1.0->scrapy>=2.5.0->advertools) (23.1.0)\n",
      "Requirement already satisfied: pyasn1-modules in c:\\users\\admin\\anaconda3\\lib\\site-packages (from service-identity>=18.1.0->scrapy>=2.5.0->advertools) (0.2.8)\n",
      "Requirement already satisfied: automat>=0.8.0 in c:\\users\\admin\\anaconda3\\lib\\site-packages (from Twisted>=18.9.0->scrapy>=2.5.0->advertools) (20.2.0)\n",
      "Requirement already satisfied: constantly>=15.1 in c:\\users\\admin\\anaconda3\\lib\\site-packages (from Twisted>=18.9.0->scrapy>=2.5.0->advertools) (23.10.4)\n",
      "Requirement already satisfied: hyperlink>=17.1.1 in c:\\users\\admin\\anaconda3\\lib\\site-packages (from Twisted>=18.9.0->scrapy>=2.5.0->advertools) (21.0.0)\n",
      "Requirement already satisfied: incremental>=22.10.0 in c:\\users\\admin\\anaconda3\\lib\\site-packages (from Twisted>=18.9.0->scrapy>=2.5.0->advertools) (22.10.0)\n",
      "Requirement already satisfied: twisted-iocpsupport<2,>=1.0.2 in c:\\users\\admin\\anaconda3\\lib\\site-packages (from Twisted>=18.9.0->scrapy>=2.5.0->advertools) (1.0.2)\n",
      "Requirement already satisfied: typing-extensions>=4.2.0 in c:\\users\\admin\\anaconda3\\lib\\site-packages (from Twisted>=18.9.0->scrapy>=2.5.0->advertools) (4.9.0)\n",
      "Requirement already satisfied: requests-file>=1.4 in c:\\users\\admin\\anaconda3\\lib\\site-packages (from tldextract->scrapy>=2.5.0->advertools) (1.5.1)\n",
      "Requirement already satisfied: filelock>=3.0.8 in c:\\users\\admin\\anaconda3\\lib\\site-packages (from tldextract->scrapy>=2.5.0->advertools) (3.13.1)\n",
      "Requirement already satisfied: pycparser in c:\\users\\admin\\anaconda3\\lib\\site-packages (from cffi>=1.12->cryptography>=3.4.6->scrapy>=2.5.0->advertools) (2.21)\n",
      "Downloading advertools-0.14.2-py2.py3-none-any.whl (321 kB)\n",
      "   ---------------------------------------- 0.0/322.0 kB ? eta -:--:--\n",
      "   ----- ---------------------------------- 41.0/322.0 kB 1.9 MB/s eta 0:00:01\n",
      "   --------------------- ------------------ 174.1/322.0 kB 2.1 MB/s eta 0:00:01\n",
      "   ---------------------------------------- 322.0/322.0 kB 2.2 MB/s eta 0:00:00\n",
      "Downloading twython-3.9.1-py3-none-any.whl (33 kB)\n",
      "Downloading requests_oauthlib-2.0.0-py2.py3-none-any.whl (24 kB)\n",
      "Downloading oauthlib-3.2.2-py3-none-any.whl (151 kB)\n",
      "   ---------------------------------------- 0.0/151.7 kB ? eta -:--:--\n",
      "   ---------------------------------------- 151.7/151.7 kB 4.6 MB/s eta 0:00:00\n",
      "Installing collected packages: oauthlib, requests-oauthlib, twython, advertools\n",
      "Successfully installed advertools-0.14.2 oauthlib-3.2.2 requests-oauthlib-2.0.0 twython-3.9.1\n",
      "Note: you may need to restart the kernel to use updated packages.\n"
     ]
    }
   ],
   "source": [
    "pip install advertools"
   ]
  },
  {
   "cell_type": "code",
   "execution_count": 27,
   "id": "1d2fab97-86f2-46d9-87bf-c76eb0cada4a",
   "metadata": {},
   "outputs": [
    {
     "ename": "ModuleNotFoundError",
     "evalue": "No module named 'demoji'",
     "output_type": "error",
     "traceback": [
      "\u001b[1;31m---------------------------------------------------------------------------\u001b[0m",
      "\u001b[1;31mModuleNotFoundError\u001b[0m                       Traceback (most recent call last)",
      "Cell \u001b[1;32mIn[27], line 1\u001b[0m\n\u001b[1;32m----> 1\u001b[0m \u001b[38;5;28;01mimport\u001b[39;00m \u001b[38;5;21;01mdemoji\u001b[39;00m\n\u001b[0;32m      3\u001b[0m \u001b[38;5;66;03m# Read the text file\u001b[39;00m\n\u001b[0;32m      4\u001b[0m \u001b[38;5;28;01mwith\u001b[39;00m \u001b[38;5;28mopen\u001b[39m(\u001b[38;5;124m\"\u001b[39m\u001b[38;5;124myour_text_file.txt\u001b[39m\u001b[38;5;124m\"\u001b[39m, \u001b[38;5;124m\"\u001b[39m\u001b[38;5;124mr\u001b[39m\u001b[38;5;124m\"\u001b[39m, encoding\u001b[38;5;241m=\u001b[39m\u001b[38;5;124m\"\u001b[39m\u001b[38;5;124mutf-8\u001b[39m\u001b[38;5;124m\"\u001b[39m) \u001b[38;5;28;01mas\u001b[39;00m f:\n",
      "\u001b[1;31mModuleNotFoundError\u001b[0m: No module named 'demoji'"
     ]
    }
   ],
   "source": []
  },
  {
   "cell_type": "code",
   "execution_count": 28,
   "id": "cb14c28f-7743-44ae-9e5f-43dc1479ce67",
   "metadata": {},
   "outputs": [
    {
     "name": "stdout",
     "output_type": "stream",
     "text": [
      "Collecting demojiNote: you may need to restart the kernel to use updated packages.\n",
      "\n",
      "  Downloading demoji-1.1.0-py3-none-any.whl.metadata (9.2 kB)\n",
      "Downloading demoji-1.1.0-py3-none-any.whl (42 kB)\n",
      "   ---------------------------------------- 0.0/42.9 kB ? eta -:--:--\n",
      "   ------------------- -------------------- 20.5/42.9 kB 682.7 kB/s eta 0:00:01\n",
      "   ---------------------------------------- 42.9/42.9 kB 526.0 kB/s eta 0:00:00\n",
      "Installing collected packages: demoji\n",
      "Successfully installed demoji-1.1.0\n"
     ]
    }
   ],
   "source": [
    "pip install demoji"
   ]
  },
  {
   "cell_type": "code",
   "execution_count": 30,
   "id": "5e634ad8-d1d2-478b-92b1-f1cc72e11895",
   "metadata": {},
   "outputs": [
    {
     "ename": "AttributeError",
     "evalue": "module 'demoji' has no attribute 'removeAll'",
     "output_type": "error",
     "traceback": [
      "\u001b[1;31m---------------------------------------------------------------------------\u001b[0m",
      "\u001b[1;31mAttributeError\u001b[0m                            Traceback (most recent call last)",
      "Cell \u001b[1;32mIn[30], line 8\u001b[0m\n\u001b[0;32m      5\u001b[0m   text \u001b[38;5;241m=\u001b[39m f\u001b[38;5;241m.\u001b[39mread()\n\u001b[0;32m      7\u001b[0m \u001b[38;5;66;03m# Remove emojis (consider replacing with demoji.replace(text, repdict) for text descriptions)\u001b[39;00m\n\u001b[1;32m----> 8\u001b[0m text_without_emojis \u001b[38;5;241m=\u001b[39m demoji\u001b[38;5;241m.\u001b[39mremoveAll(text)\n\u001b[0;32m     10\u001b[0m \u001b[38;5;66;03m# Optionally, write the modified text to a new file\u001b[39;00m\n\u001b[0;32m     11\u001b[0m \u001b[38;5;28;01mwith\u001b[39;00m \u001b[38;5;28mopen\u001b[39m(\u001b[38;5;124m\"\u001b[39m\u001b[38;5;124mdatanew.txt\u001b[39m\u001b[38;5;124m\"\u001b[39m, \u001b[38;5;124m\"\u001b[39m\u001b[38;5;124mw\u001b[39m\u001b[38;5;124m\"\u001b[39m, encoding\u001b[38;5;241m=\u001b[39m\u001b[38;5;124m\"\u001b[39m\u001b[38;5;124mutf-8\u001b[39m\u001b[38;5;124m\"\u001b[39m) \u001b[38;5;28;01mas\u001b[39;00m f:\n",
      "File \u001b[1;32m~\\anaconda3\\Lib\\site-packages\\demoji\\__init__.py:68\u001b[0m, in \u001b[0;36m__getattr__\u001b[1;34m(name)\u001b[0m\n\u001b[0;32m     60\u001b[0m     warnings\u001b[38;5;241m.\u001b[39mwarn(\n\u001b[0;32m     61\u001b[0m         _depr_msg \u001b[38;5;241m%\u001b[39m \u001b[38;5;124m\"\u001b[39m\u001b[38;5;124mdemoji.CACHEPATH\u001b[39m\u001b[38;5;124m\"\u001b[39m,\n\u001b[0;32m     62\u001b[0m         \u001b[38;5;167;01mFutureWarning\u001b[39;00m,\n\u001b[0;32m     63\u001b[0m         stacklevel\u001b[38;5;241m=\u001b[39m\u001b[38;5;241m2\u001b[39m,\n\u001b[0;32m     64\u001b[0m     )\n\u001b[0;32m     65\u001b[0m     \u001b[38;5;28;01mreturn\u001b[39;00m os\u001b[38;5;241m.\u001b[39mpath\u001b[38;5;241m.\u001b[39mjoin(\n\u001b[0;32m     66\u001b[0m         os\u001b[38;5;241m.\u001b[39mpath\u001b[38;5;241m.\u001b[39mjoin(os\u001b[38;5;241m.\u001b[39mpath\u001b[38;5;241m.\u001b[39mexpanduser(\u001b[38;5;124m\"\u001b[39m\u001b[38;5;124m~\u001b[39m\u001b[38;5;124m\"\u001b[39m), \u001b[38;5;124m\"\u001b[39m\u001b[38;5;124m.demoji\u001b[39m\u001b[38;5;124m\"\u001b[39m), \u001b[38;5;124m\"\u001b[39m\u001b[38;5;124mcodes.json\u001b[39m\u001b[38;5;124m\"\u001b[39m\n\u001b[0;32m     67\u001b[0m     )\n\u001b[1;32m---> 68\u001b[0m \u001b[38;5;28;01mraise\u001b[39;00m \u001b[38;5;167;01mAttributeError\u001b[39;00m(\u001b[38;5;124m\"\u001b[39m\u001b[38;5;124mmodule \u001b[39m\u001b[38;5;124m'\u001b[39m\u001b[38;5;124mdemoji\u001b[39m\u001b[38;5;124m'\u001b[39m\u001b[38;5;124m has no attribute \u001b[39m\u001b[38;5;124m'\u001b[39m\u001b[38;5;132;01m%s\u001b[39;00m\u001b[38;5;124m'\u001b[39m\u001b[38;5;124m\"\u001b[39m \u001b[38;5;241m%\u001b[39m name)\n",
      "\u001b[1;31mAttributeError\u001b[0m: module 'demoji' has no attribute 'removeAll'"
     ]
    }
   ],
   "source": [
    "import demoji\n",
    "\n",
    "# Read the text file\n",
    "with open(\"datanew.txt\", \"r\", encoding=\"utf-8\") as f:\n",
    "  text = f.read()\n",
    "\n",
    "# Remove emojis (consider replacing with demoji.replace(text, repdict) for text descriptions)\n",
    "text_without_emojis = demoji.removeAll(text)\n",
    "\n",
    "# Optionally, write the modified text to a new file\n",
    "with open(\"datanew.txt\", \"w\", encoding=\"utf-8\") as f:\n",
    "  f.write(text_without_emojis)\n",
    "\n",
    "print(\"Emojis removed from text file.\")\n"
   ]
  },
  {
   "cell_type": "code",
   "execution_count": 33,
   "id": "1c5829e0-04ab-4206-8bb8-59bd61943ecb",
   "metadata": {},
   "outputs": [
    {
     "name": "stdout",
     "output_type": "stream",
     "text": [
      "Emojis and unknown symbols removed from file.\n"
     ]
    }
   ],
   "source": [
    "import re\n",
    "\n",
    "def remove_undesired_chars(text):\n",
    "  \"\"\"\n",
    "  This function removes emojis and unknown symbols from a text string using regular expressions.\n",
    "\n",
    "  Args:\n",
    "      text (str): The text string from which to remove undesired characters.\n",
    "\n",
    "  Returns:\n",
    "      str: The text string with emojis and unknown symbols removed.\n",
    "  \"\"\"\n",
    "  undesired_pattern = r\"[^\\x00-\\x7F\\sA-Za-z0-9]\"  # Matches characters outside basic ASCII, space, letters, and numbers\n",
    "  return re.sub(undesired_pattern, '', text)\n",
    "\n",
    "# Read the text file\n",
    "with open(\"data.txt\", \"r\", encoding=\"utf-8\") as f:\n",
    "  text = f.read()\n",
    "\n",
    "# Remove undesired characters\n",
    "text_without_unknowns = remove_undesired_chars(text)\n",
    "\n",
    "# Optionally, write the modified text to a new file\n",
    "with open(\"data.txt\", \"w\", encoding=\"utf-8\") as f:\n",
    "  f.write(text_without_unknowns)\n",
    "\n",
    "print(\"Emojis and unknown symbols removed from file.\")\n"
   ]
  },
  {
   "cell_type": "code",
   "execution_count": null,
   "id": "e7be614f-2230-4951-9e4a-99290dabebe1",
   "metadata": {},
   "outputs": [],
   "source": []
  },
  {
   "cell_type": "code",
   "execution_count": 19,
   "id": "ab718564-f487-4bc1-9c4e-fde81094476f",
   "metadata": {},
   "outputs": [
    {
     "ename": "FileNotFoundError",
     "evalue": "[Errno 2] No such file or directory: '-f'",
     "output_type": "error",
     "traceback": [
      "\u001b[1;31m---------------------------------------------------------------------------\u001b[0m",
      "\u001b[1;31mFileNotFoundError\u001b[0m                         Traceback (most recent call last)",
      "Cell \u001b[1;32mIn[19], line 24\u001b[0m\n\u001b[0;32m     21\u001b[0m     \u001b[38;5;28;01mreturn\u001b[39;00m emoji_pattern\u001b[38;5;241m.\u001b[39msub(\u001b[38;5;124mr\u001b[39m\u001b[38;5;124m'\u001b[39m\u001b[38;5;124m'\u001b[39m, string)\n\u001b[0;32m     23\u001b[0m \u001b[38;5;28;01mif\u001b[39;00m \u001b[38;5;18m__name__\u001b[39m \u001b[38;5;241m==\u001b[39m \u001b[38;5;124m'\u001b[39m\u001b[38;5;124m__main__\u001b[39m\u001b[38;5;124m'\u001b[39m:\n\u001b[1;32m---> 24\u001b[0m     text \u001b[38;5;241m=\u001b[39m \u001b[38;5;28mopen\u001b[39m(sys\u001b[38;5;241m.\u001b[39margv[\u001b[38;5;241m1\u001b[39m])\u001b[38;5;241m.\u001b[39mread()\n\u001b[0;32m     25\u001b[0m     text \u001b[38;5;241m=\u001b[39m remove_emoji(text)\n\u001b[0;32m     26\u001b[0m     \u001b[38;5;28mprint\u001b[39m(text)\n",
      "File \u001b[1;32m~\\anaconda3\\Lib\\site-packages\\IPython\\core\\interactiveshell.py:310\u001b[0m, in \u001b[0;36m_modified_open\u001b[1;34m(file, *args, **kwargs)\u001b[0m\n\u001b[0;32m    303\u001b[0m \u001b[38;5;28;01mif\u001b[39;00m file \u001b[38;5;129;01min\u001b[39;00m {\u001b[38;5;241m0\u001b[39m, \u001b[38;5;241m1\u001b[39m, \u001b[38;5;241m2\u001b[39m}:\n\u001b[0;32m    304\u001b[0m     \u001b[38;5;28;01mraise\u001b[39;00m \u001b[38;5;167;01mValueError\u001b[39;00m(\n\u001b[0;32m    305\u001b[0m         \u001b[38;5;124mf\u001b[39m\u001b[38;5;124m\"\u001b[39m\u001b[38;5;124mIPython won\u001b[39m\u001b[38;5;124m'\u001b[39m\u001b[38;5;124mt let you open fd=\u001b[39m\u001b[38;5;132;01m{\u001b[39;00mfile\u001b[38;5;132;01m}\u001b[39;00m\u001b[38;5;124m by default \u001b[39m\u001b[38;5;124m\"\u001b[39m\n\u001b[0;32m    306\u001b[0m         \u001b[38;5;124m\"\u001b[39m\u001b[38;5;124mas it is likely to crash IPython. If you know what you are doing, \u001b[39m\u001b[38;5;124m\"\u001b[39m\n\u001b[0;32m    307\u001b[0m         \u001b[38;5;124m\"\u001b[39m\u001b[38;5;124myou can use builtins\u001b[39m\u001b[38;5;124m'\u001b[39m\u001b[38;5;124m open.\u001b[39m\u001b[38;5;124m\"\u001b[39m\n\u001b[0;32m    308\u001b[0m     )\n\u001b[1;32m--> 310\u001b[0m \u001b[38;5;28;01mreturn\u001b[39;00m io_open(file, \u001b[38;5;241m*\u001b[39margs, \u001b[38;5;241m*\u001b[39m\u001b[38;5;241m*\u001b[39mkwargs)\n",
      "\u001b[1;31mFileNotFoundError\u001b[0m: [Errno 2] No such file or directory: '-f'"
     ]
    }
   ],
   "source": [
    "#!/usr/bin/env python\n",
    "\"\"\"\n",
    "Remove emoji from a text file and print it to stdout.\n",
    "Usage\n",
    "-----\n",
    "    python remove-emoji.py input.txt > output.txt\n",
    "\"\"\"\n",
    "import re\n",
    "import sys\n",
    "\n",
    "# https://stackoverflow.com/a/49146722/330558\n",
    "def remove_emoji(string):\n",
    "    emoji_pattern = re.compile(\"[\"\n",
    "                           u\"\\U0001F600-\\U0001F64F\"  # emoticons\n",
    "                           u\"\\U0001F300-\\U0001F5FF\"  # symbols & pictographs\n",
    "                           u\"\\U0001F680-\\U0001F6FF\"  # transport & map symbols\n",
    "                           u\"\\U0001F1E0-\\U0001F1FF\"  # flags (iOS)\n",
    "                           u\"\\U00002702-\\U000027B0\"\n",
    "                           u\"\\U000024C2-\\U0001F251\"\n",
    "                           \"]+\", flags=re.UNICODE)\n",
    "    return emoji_pattern.sub(r'', string)\n",
    "\n",
    "if __name__ == '__main__':\n",
    "    text = open(sys.argv[1]).read()\n",
    "    text = remove_emoji(text)\n",
    "    print(text)"
   ]
  },
  {
   "cell_type": "code",
   "execution_count": 50,
   "id": "91aa7f9d-31e3-48eb-9248-fe727860b854",
   "metadata": {},
   "outputs": [],
   "source": [
    "import warnings \n",
    "warnings.filterwarnings('ignore') \n",
    "import pandas as pd \n",
    "import re \n",
    "import seaborn as sns \n",
    "from sklearn.feature_extraction.text import TfidfVectorizer \n",
    "import matplotlib.pyplot as plt \n",
    "from wordcloud import WordCloud\n"
   ]
  },
  {
   "cell_type": "code",
   "execution_count": null,
   "id": "6a8ee602-fc1c-4916-9a89-c26733ffe1cc",
   "metadata": {},
   "outputs": [
    {
     "name": "stderr",
     "output_type": "stream",
     "text": [
      "[nltk_data] Downloading package stopwords to\n",
      "[nltk_data]     C:\\Users\\admin\\AppData\\Roaming\\nltk_data...\n",
      "[nltk_data]   Package stopwords is already up-to-date!\n"
     ]
    },
    {
     "name": "stdout",
     "output_type": "stream",
     "text": [
      "showing info https://raw.githubusercontent.com/nltk/nltk_data/gh-pages/index.xml\n"
     ]
    }
   ],
   "source": [
    "import nltk \n",
    "nltk.download('stopwords') \n",
    "from nltk.corpus import stopwords\n",
    "import nltk\n",
    "nltk.download()"
   ]
  },
  {
   "cell_type": "code",
   "execution_count": null,
   "id": "033fdd4f-174f-4751-9f51-e7ff4ed1c3c8",
   "metadata": {},
   "outputs": [],
   "source": [
    "data = pd.read_csv('datanew.csv',encoding='windows-1254')\n",
    "data.head()\n"
   ]
  },
  {
   "cell_type": "code",
   "execution_count": null,
   "id": "2f0aa8df-5136-43b6-9055-bdf3fc9cb0b9",
   "metadata": {},
   "outputs": [],
   "source": [
    "# unique ratings \n",
    "pd.unique(data['rating'])\n"
   ]
  },
  {
   "cell_type": "code",
   "execution_count": null,
   "id": "32f0c490-7209-4674-b765-56b838cd09a2",
   "metadata": {},
   "outputs": [],
   "source": [
    "sns.countplot(data=data, \n",
    "\t\t\tx='rating', \n",
    "\t\t\torder=data.rating.value_counts().index)\n"
   ]
  },
  {
   "cell_type": "code",
   "execution_count": null,
   "id": "25e379f2-e206-4096-9b18-5339f0e47ae2",
   "metadata": {},
   "outputs": [],
   "source": [
    "# rating label(final) \n",
    "pos_neg = [] \n",
    "for i in range(len(data['rating'])): \n",
    "\tif data['rating'][i] >= 5: \n",
    "\t\tpos_neg.append(1) \n",
    "\telse: \n",
    "\t\tpos_neg.append(0) \n",
    "\n",
    "data['label'] = pos_neg \n"
   ]
  },
  {
   "cell_type": "code",
   "execution_count": null,
   "id": "bc3e725a-47ac-4e96-bc80-f266c51ee01f",
   "metadata": {},
   "outputs": [],
   "source": [
    "from tqdm import tqdm \n",
    "\n",
    "\n",
    "def preprocess_text(text_data): \n",
    "\tpreprocessed_text = [] \n",
    "\n",
    "\tfor sentence in tqdm(text_data): \n",
    "\t\t# Removing punctuations \n",
    "\t\tsentence = re.sub(r'[^\\w\\s]', '', sentence) \n",
    "\n",
    "\t\t# Converting lowercase and removing stopwords \n",
    "\t\tpreprocessed_text.append(' '.join(token.lower() \n",
    "\t\t\t\t\t\t\t\t\t\tfor token in nltk.word_tokenize(sentence) \n",
    "\t\t\t\t\t\t\t\t\t\tif token.lower() not in stopwords.words('english'))) \n",
    "\n",
    "\treturn preprocessed_text \n"
   ]
  },
  {
   "cell_type": "code",
   "execution_count": null,
   "id": "52c72a34-7d6d-484e-9f10-418ec67f3287",
   "metadata": {},
   "outputs": [],
   "source": [
    "preprocessed_review = preprocess_text(data['review'].values) \n",
    "data['review'] = preprocessed_review\n"
   ]
  },
  {
   "cell_type": "code",
   "execution_count": null,
   "id": "de33ca0e-4246-4ef2-a00d-844280e0bb58",
   "metadata": {},
   "outputs": [],
   "source": [
    "data.head()\n"
   ]
  },
  {
   "cell_type": "code",
   "execution_count": null,
   "id": "b7de34a2-f7fa-4ced-afb8-e000a44fac45",
   "metadata": {},
   "outputs": [],
   "source": [
    "data[\"label\"].value_counts()\n"
   ]
  },
  {
   "cell_type": "code",
   "execution_count": null,
   "id": "6ff4f39e-6201-48cc-b4a4-c965fe1cf871",
   "metadata": {},
   "outputs": [],
   "source": [
    "consolidated = ' '.join( \n",
    "\tword for word in data['review'][data['label'] == 1].astype(str)) \n",
    "wordCloud = WordCloud(width=1600, height=800, \n",
    "\t\t\t\t\trandom_state=21, max_font_size=110) \n",
    "plt.figure(figsize=(15, 10)) \n",
    "plt.imshow(wordCloud.generate(consolidated), interpolation='bilinear') \n",
    "plt.axis('off') \n",
    "plt.show() \n"
   ]
  },
  {
   "cell_type": "code",
   "execution_count": null,
   "id": "171eecbf-84a0-40d7-b4f5-27e38afd87ce",
   "metadata": {},
   "outputs": [],
   "source": [
    "cv = TfidfVectorizer(max_features=2500) \n",
    "X = cv.fit_transform(data['review'] ).toarray()\n"
   ]
  },
  {
   "cell_type": "code",
   "execution_count": null,
   "id": "2f6fe02c-d2ee-4372-8076-5f401855102d",
   "metadata": {},
   "outputs": [],
   "source": [
    "X\n"
   ]
  },
  {
   "cell_type": "code",
   "execution_count": null,
   "id": "bf6d4080-e010-425b-9c78-9db5f6503e0d",
   "metadata": {},
   "outputs": [],
   "source": [
    "from sklearn.model_selection import train_test_split \n",
    "X_train, X_test, y_train, y_test = train_test_split(X, data['label'], \n",
    "\t\t\t\t\t\t\t\t\t\t\t\t\ttest_size=0.33, \n",
    "\t\t\t\t\t\t\t\t\t\t\t\t\tstratify=data['label'], \n",
    "\t\t\t\t\t\t\t\t\t\t\t\t\trandom_state = 42)\n"
   ]
  },
  {
   "cell_type": "code",
   "execution_count": null,
   "id": "1ac7ec37-4188-4172-b1fd-586ec919e82d",
   "metadata": {},
   "outputs": [],
   "source": [
    "from sklearn.tree import DecisionTreeClassifier \n",
    "\n",
    "model = DecisionTreeClassifier(random_state=0) \n",
    "model.fit(X_train,y_train) \n",
    "\n",
    "#testing the model \n",
    "pred = model.predict(X_train) \n",
    "print(accuracy_score(y_train,pred))\n"
   ]
  },
  {
   "cell_type": "code",
   "execution_count": null,
   "id": "52eb7b5b-4a39-4a01-9b1a-6d703ec1ce51",
   "metadata": {},
   "outputs": [],
   "source": [
    "from sklearn import metrics \n",
    "cm = confusion_matrix(y_train,pred) \n",
    "\n",
    "cm_display = metrics.ConfusionMatrixDisplay(confusion_matrix = cm, \n",
    "\t\t\t\t\t\t\t\t\t\t\tdisplay_labels = [False, True]) \n",
    "\n",
    "cm_display.plot() \n",
    "plt.show()\n"
   ]
  },
  {
   "cell_type": "code",
   "execution_count": null,
   "id": "5ffadc17-2300-48d8-a1f1-1f568c9ff5f1",
   "metadata": {},
   "outputs": [],
   "source": []
  },
  {
   "cell_type": "code",
   "execution_count": null,
   "id": "4b7d7825-cb67-475b-a889-8b63118abca1",
   "metadata": {},
   "outputs": [],
   "source": []
  },
  {
   "cell_type": "code",
   "execution_count": null,
   "id": "60d939a7-5637-458c-8241-c5dc8d69178d",
   "metadata": {},
   "outputs": [],
   "source": []
  },
  {
   "cell_type": "code",
   "execution_count": null,
   "id": "4b7778f2-3224-4eea-9db7-31066f5b9559",
   "metadata": {},
   "outputs": [],
   "source": []
  },
  {
   "cell_type": "code",
   "execution_count": null,
   "id": "0cc08816-e1c2-48f5-bc1a-e4a6dfa147aa",
   "metadata": {},
   "outputs": [],
   "source": []
  },
  {
   "cell_type": "code",
   "execution_count": null,
   "id": "67e6c261-8c77-4c4e-95bf-7f006a560114",
   "metadata": {},
   "outputs": [],
   "source": []
  },
  {
   "cell_type": "code",
   "execution_count": null,
   "id": "ead16e0a-1b75-4e1b-b9d8-0860ab6c610a",
   "metadata": {},
   "outputs": [],
   "source": []
  },
  {
   "cell_type": "code",
   "execution_count": null,
   "id": "6eb9b8dc-2170-4acb-9163-f9104d870402",
   "metadata": {},
   "outputs": [],
   "source": []
  },
  {
   "cell_type": "code",
   "execution_count": null,
   "id": "dfa78a45-874e-42ef-ab49-21ff380b01e4",
   "metadata": {},
   "outputs": [],
   "source": []
  },
  {
   "cell_type": "code",
   "execution_count": null,
   "id": "03f36a6c-23f6-4150-9aca-919ed9a37d64",
   "metadata": {},
   "outputs": [],
   "source": []
  }
 ],
 "metadata": {
  "kernelspec": {
   "display_name": "Python 3 (ipykernel)",
   "language": "python",
   "name": "python3"
  },
  "language_info": {
   "codemirror_mode": {
    "name": "ipython",
    "version": 3
   },
   "file_extension": ".py",
   "mimetype": "text/x-python",
   "name": "python",
   "nbconvert_exporter": "python",
   "pygments_lexer": "ipython3",
   "version": "3.11.7"
  }
 },
 "nbformat": 4,
 "nbformat_minor": 5
}
